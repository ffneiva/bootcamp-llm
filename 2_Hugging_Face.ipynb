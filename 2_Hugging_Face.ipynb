{
  "nbformat": 4,
  "nbformat_minor": 0,
  "metadata": {
    "colab": {
      "provenance": [],
      "authorship_tag": "ABX9TyOdKMYgU0yaE8IiWjhj+dnL",
      "include_colab_link": true
    },
    "kernelspec": {
      "name": "python3",
      "display_name": "Python 3"
    },
    "language_info": {
      "name": "python"
    }
  },
  "cells": [
    {
      "cell_type": "markdown",
      "metadata": {
        "id": "view-in-github",
        "colab_type": "text"
      },
      "source": [
        "<a href=\"https://colab.research.google.com/github/ffneiva/bootcamp-llm/blob/main/2_Hugging_Face.ipynb\" target=\"_parent\"><img src=\"https://colab.research.google.com/assets/colab-badge.svg\" alt=\"Open In Colab\"/></a>"
      ]
    },
    {
      "cell_type": "markdown",
      "source": [
        "### Instalação das bilbliotecas"
      ],
      "metadata": {
        "id": "OQ_sz-7ivQzW"
      }
    },
    {
      "cell_type": "code",
      "execution_count": null,
      "metadata": {
        "colab": {
          "base_uri": "https://localhost:8080/"
        },
        "id": "b1hUkr6eqCrn",
        "outputId": "018e8aa5-bf48-4ef0-dc84-b1c347e2148c"
      },
      "outputs": [
        {
          "output_type": "stream",
          "name": "stdout",
          "text": [
            "Requirement already satisfied: transformers in /usr/local/lib/python3.10/dist-packages (4.42.4)\n",
            "Requirement already satisfied: filelock in /usr/local/lib/python3.10/dist-packages (from transformers) (3.15.4)\n",
            "Requirement already satisfied: huggingface-hub<1.0,>=0.23.2 in /usr/local/lib/python3.10/dist-packages (from transformers) (0.23.5)\n",
            "Requirement already satisfied: numpy<2.0,>=1.17 in /usr/local/lib/python3.10/dist-packages (from transformers) (1.25.2)\n",
            "Requirement already satisfied: packaging>=20.0 in /usr/local/lib/python3.10/dist-packages (from transformers) (24.1)\n",
            "Requirement already satisfied: pyyaml>=5.1 in /usr/local/lib/python3.10/dist-packages (from transformers) (6.0.1)\n",
            "Requirement already satisfied: regex!=2019.12.17 in /usr/local/lib/python3.10/dist-packages (from transformers) (2024.5.15)\n",
            "Requirement already satisfied: requests in /usr/local/lib/python3.10/dist-packages (from transformers) (2.31.0)\n",
            "Requirement already satisfied: safetensors>=0.4.1 in /usr/local/lib/python3.10/dist-packages (from transformers) (0.4.3)\n",
            "Requirement already satisfied: tokenizers<0.20,>=0.19 in /usr/local/lib/python3.10/dist-packages (from transformers) (0.19.1)\n",
            "Requirement already satisfied: tqdm>=4.27 in /usr/local/lib/python3.10/dist-packages (from transformers) (4.66.4)\n",
            "Requirement already satisfied: fsspec>=2023.5.0 in /usr/local/lib/python3.10/dist-packages (from huggingface-hub<1.0,>=0.23.2->transformers) (2023.6.0)\n",
            "Requirement already satisfied: typing-extensions>=3.7.4.3 in /usr/local/lib/python3.10/dist-packages (from huggingface-hub<1.0,>=0.23.2->transformers) (4.12.2)\n",
            "Requirement already satisfied: charset-normalizer<4,>=2 in /usr/local/lib/python3.10/dist-packages (from requests->transformers) (3.3.2)\n",
            "Requirement already satisfied: idna<4,>=2.5 in /usr/local/lib/python3.10/dist-packages (from requests->transformers) (3.7)\n",
            "Requirement already satisfied: urllib3<3,>=1.21.1 in /usr/local/lib/python3.10/dist-packages (from requests->transformers) (2.0.7)\n",
            "Requirement already satisfied: certifi>=2017.4.17 in /usr/local/lib/python3.10/dist-packages (from requests->transformers) (2024.7.4)\n"
          ]
        }
      ],
      "source": [
        "!pip install transformers"
      ]
    },
    {
      "cell_type": "markdown",
      "source": [
        "### Aplicação de perguntas e respostas"
      ],
      "metadata": {
        "id": "uOTvc0U2vUL7"
      }
    },
    {
      "cell_type": "markdown",
      "source": [
        "##### Importar biblioteca e baixar modelo"
      ],
      "metadata": {
        "id": "Pp44gCmJwJ3i"
      }
    },
    {
      "cell_type": "code",
      "source": [
        "import transformers\n",
        "\n",
        "qa = transformers.pipeline(\n",
        "    'question-answering',\n",
        "    model='pierreguillou/bert-base-cased-squad-v1.1-portuguese',\n",
        ")"
      ],
      "metadata": {
        "colab": {
          "base_uri": "https://localhost:8080/"
        },
        "id": "CnAC1CbXvPZB",
        "outputId": "a63c901f-5031-4824-c675-1dfc3577cabf"
      },
      "execution_count": null,
      "outputs": [
        {
          "output_type": "stream",
          "name": "stderr",
          "text": [
            "/usr/local/lib/python3.10/dist-packages/huggingface_hub/utils/_token.py:89: UserWarning: \n",
            "The secret `HF_TOKEN` does not exist in your Colab secrets.\n",
            "To authenticate with the Hugging Face Hub, create a token in your settings tab (https://huggingface.co/settings/tokens), set it as secret in your Google Colab and restart your session.\n",
            "You will be able to reuse this secret in all of your notebooks.\n",
            "Please note that authentication is recommended but still optional to access public models or datasets.\n",
            "  warnings.warn(\n"
          ]
        }
      ]
    },
    {
      "cell_type": "markdown",
      "source": [
        "##### Aplicação do modelo"
      ],
      "metadata": {
        "id": "7h8f1NzkwNKn"
      }
    },
    {
      "cell_type": "code",
      "source": [
        "text = 'Carl Edward Sagan foi um notável cientista, professor, astrônomo e biólogo. Autor de mais de 600 publicações e de mais de 20 livros de ciência e ficção científica, é considerado o cientista americano mais influente do século XX. Sua contribuição foi imprescindível para o desenvolvimento de programas espaciais da NASA – National Aeronautics and Space Administration (Administração Nacional do Espaço e da Aeronáutica).'\n",
        "question = 'Sobre o que Carl Sagan escreveu?'\n",
        "answer = qa(question=question, context=text)\n",
        "answer"
      ],
      "metadata": {
        "colab": {
          "base_uri": "https://localhost:8080/"
        },
        "id": "0Y84OEiowOQK",
        "outputId": "c3a39c57-97b4-46f2-950b-a4251a0525c3"
      },
      "execution_count": null,
      "outputs": [
        {
          "output_type": "execute_result",
          "data": {
            "text/plain": [
              "{'score': 0.5000554323196411,\n",
              " 'start': 135,\n",
              " 'end': 162,\n",
              " 'answer': 'ciência e ficção científica'}"
            ]
          },
          "metadata": {},
          "execution_count": 3
        }
      ]
    },
    {
      "cell_type": "code",
      "source": [
        "question = 'Quem foi Carl Sagan?'\n",
        "answer = qa(question=question, context=text)\n",
        "answer"
      ],
      "metadata": {
        "colab": {
          "base_uri": "https://localhost:8080/"
        },
        "id": "Ii8Nq4ZIxWQ9",
        "outputId": "178fd71b-e431-4fb5-d87d-744ee028c0c9"
      },
      "execution_count": null,
      "outputs": [
        {
          "output_type": "execute_result",
          "data": {
            "text/plain": [
              "{'score': 0.430329829454422,\n",
              " 'start': 33,\n",
              " 'end': 74,\n",
              " 'answer': 'cientista, professor, astrônomo e biólogo'}"
            ]
          },
          "metadata": {},
          "execution_count": 4
        }
      ]
    },
    {
      "cell_type": "code",
      "source": [
        "question = 'Quantas publicações científicas Carl Sagan possui?'\n",
        "answer = qa(question=question, context=text)\n",
        "answer"
      ],
      "metadata": {
        "colab": {
          "base_uri": "https://localhost:8080/"
        },
        "id": "X5uj4Y9hxZLt",
        "outputId": "5300753e-aedf-4ffc-e8d7-1e456a724122"
      },
      "execution_count": null,
      "outputs": [
        {
          "output_type": "execute_result",
          "data": {
            "text/plain": [
              "{'score': 0.571442186832428, 'start': 85, 'end': 96, 'answer': 'mais de 600'}"
            ]
          },
          "metadata": {},
          "execution_count": 5
        }
      ]
    },
    {
      "cell_type": "markdown",
      "source": [
        "### Pipeline para preenchimento de lacunas"
      ],
      "metadata": {
        "id": "7RbpkYSaxr36"
      }
    },
    {
      "cell_type": "code",
      "source": [
        "import transformers\n",
        "\n",
        "fm = transformers.pipeline(\n",
        "    'fill-mask',\n",
        "    model='neuralmind/bert-base-portuguese-cased',\n",
        ")"
      ],
      "metadata": {
        "colab": {
          "base_uri": "https://localhost:8080/"
        },
        "id": "BMRxTRwJxtyh",
        "outputId": "312b096d-eb35-4c7c-d983-9cd08583aff4"
      },
      "execution_count": null,
      "outputs": [
        {
          "output_type": "stream",
          "name": "stderr",
          "text": [
            "Some weights of the model checkpoint at neuralmind/bert-base-portuguese-cased were not used when initializing BertForMaskedLM: ['bert.pooler.dense.bias', 'bert.pooler.dense.weight', 'cls.seq_relationship.bias', 'cls.seq_relationship.weight']\n",
            "- This IS expected if you are initializing BertForMaskedLM from the checkpoint of a model trained on another task or with another architecture (e.g. initializing a BertForSequenceClassification model from a BertForPreTraining model).\n",
            "- This IS NOT expected if you are initializing BertForMaskedLM from the checkpoint of a model that you expect to be exactly identical (initializing a BertForSequenceClassification model from a BertForSequenceClassification model).\n"
          ]
        }
      ]
    },
    {
      "cell_type": "code",
      "source": [
        "text = 'Existe uma chance de o copo cair no [MASK]'\n",
        "prediction = fm(text)\n",
        "prediction"
      ],
      "metadata": {
        "colab": {
          "base_uri": "https://localhost:8080/"
        },
        "id": "WdgfFBSEyEH2",
        "outputId": "83391eac-f543-46e6-9ac2-91038cc2c647"
      },
      "execution_count": null,
      "outputs": [
        {
          "output_type": "execute_result",
          "data": {
            "text/plain": [
              "[{'score': 0.6820482611656189,\n",
              "  'token': 8105,\n",
              "  'token_str': 'chão',\n",
              "  'sequence': 'Existe uma chance de o copo cair no chão'},\n",
              " {'score': 0.04287431016564369,\n",
              "  'token': 528,\n",
              "  'token_str': 'mar',\n",
              "  'sequence': 'Existe uma chance de o copo cair no mar'},\n",
              " {'score': 0.037145305424928665,\n",
              "  'token': 2187,\n",
              "  'token_str': 'rio',\n",
              "  'sequence': 'Existe uma chance de o copo cair no rio'},\n",
              " {'score': 0.023218350484967232,\n",
              "  'token': 4848,\n",
              "  'token_str': 'fogo',\n",
              "  'sequence': 'Existe uma chance de o copo cair no fogo'},\n",
              " {'score': 0.01729370281100273,\n",
              "  'token': 14575,\n",
              "  'token_str': 'lixo',\n",
              "  'sequence': 'Existe uma chance de o copo cair no lixo'}]"
            ]
          },
          "metadata": {},
          "execution_count": 7
        }
      ]
    },
    {
      "cell_type": "code",
      "source": [
        "text = 'Goiânia é a capital de [MASK]'\n",
        "prediction = fm(text)\n",
        "prediction"
      ],
      "metadata": {
        "colab": {
          "base_uri": "https://localhost:8080/"
        },
        "id": "YJhXJD_vzIf3",
        "outputId": "f03fd23e-e248-48ad-f560-ab10a79aad08"
      },
      "execution_count": null,
      "outputs": [
        {
          "output_type": "execute_result",
          "data": {
            "text/plain": [
              "[{'score': 0.6514594554901123,\n",
              "  'token': 7999,\n",
              "  'token_str': 'Goiás',\n",
              "  'sequence': 'Goiânia é a capital de Goiás'},\n",
              " {'score': 0.06292415410280228,\n",
              "  'token': 14423,\n",
              "  'token_str': 'Goiânia',\n",
              "  'sequence': 'Goiânia é a capital de Goiânia'},\n",
              " {'score': 0.043947793543338776,\n",
              "  'token': 6191,\n",
              "  'token_str': 'Brasília',\n",
              "  'sequence': 'Goiânia é a capital de Brasília'},\n",
              " {'score': 0.01863146759569645,\n",
              "  'token': 944,\n",
              "  'token_str': 'todos',\n",
              "  'sequence': 'Goiânia é a capital de todos'},\n",
              " {'score': 0.01268751546740532,\n",
              "  'token': 2538,\n",
              "  'token_str': 'Deus',\n",
              "  'sequence': 'Goiânia é a capital de Deus'}]"
            ]
          },
          "metadata": {},
          "execution_count": 8
        }
      ]
    },
    {
      "cell_type": "markdown",
      "source": [
        "### Aplicação de resumos"
      ],
      "metadata": {
        "id": "fyhXmQMuzXr1"
      }
    },
    {
      "cell_type": "code",
      "source": [
        "import transformers\n",
        "\n",
        "s = transformers.pipeline('summarization') # pega o padrão"
      ],
      "metadata": {
        "colab": {
          "base_uri": "https://localhost:8080/"
        },
        "id": "DmI2Wj1SzMmC",
        "outputId": "d31adb01-1094-42df-d866-49b8615b230f"
      },
      "execution_count": null,
      "outputs": [
        {
          "output_type": "stream",
          "name": "stderr",
          "text": [
            "No model was supplied, defaulted to sshleifer/distilbart-cnn-12-6 and revision a4f8f3e (https://huggingface.co/sshleifer/distilbart-cnn-12-6).\n",
            "Using a pipeline without specifying a model name and revision in production is not recommended.\n"
          ]
        }
      ]
    },
    {
      "cell_type": "code",
      "source": [
        "text = \"\"\"Carl Edward Sagan  foi um cientista, físico, biólogo, astrônomo, astrofísico, cosmólogo, escritor, divulgador científico e ativista norte-americano. Sagan é autor de mais de 600 publicações científicas[4][5] e também de mais de vinte livros de ciência e ficção científica.\n",
        "Foi durante a vida um grande defensor do ceticismo e do uso do método científico. Promoveu a busca por inteligência extraterrestre através do projeto SETI e instituiu o envio de mensagens a bordo de sondas espaciais, destinadas a informar possíveis civilizações extraterrestres sobre a existência humana. Mediante suas observações da atmosfera de Vênus, foi um dos primeiros cientistas a estudar o efeito estufa em escala planetária. Também fundou a organização não governamental Sociedade Planetária e foi pioneiro no ramo da exobiologia. Sagan passou grande parte da carreira como professor da Universidade Cornell, onde foi diretor do laboratório de estudos planetários. Em 1960 obteve o título de doutor pela Universidade de Chicago.\n",
        "Sagan é conhecido por seus livros de divulgação científica e pela premiada série televisiva de 1980 Cosmos: Uma Viagem Pessoal, que ele mesmo narrou e coescreveu.[9] O livro Cosmos foi publicado para complementar a série. Sagan escreveu o romance Contact, que serviu de base para um filme homônimo de 1997. Em 1978, ganhou o Prémio Pulitzer de Não Ficção Geral pelo seu livro The Dragons of Eden. Morreu aos 62 anos, de pneumonia, depois de uma batalha de dois anos com uma rara e grave doença na medula óssea (mielodisplasia).\n",
        "Ao longo de sua vida, recebeu vários prêmios e condecorações pelo seu trabalho de divulgação científica. Sagan é considerado um dos divulgadores científicos mais carismáticos e influentes da história, graças a sua capacidade de transmitir as ideias científicas e os aspectos culturais ao público não especializado.\"\"\"\n",
        "summary = s(text, max_length=100, min_length=50)\n",
        "summary"
      ],
      "metadata": {
        "colab": {
          "base_uri": "https://localhost:8080/"
        },
        "id": "Y7xRGjbRznnS",
        "outputId": "f21a755b-c4fe-4253-e537-a432fb6fac12"
      },
      "execution_count": null,
      "outputs": [
        {
          "output_type": "execute_result",
          "data": {
            "text/plain": [
              "[{'summary_text': ' Carl Edward Sagan was a cientista, físico, biólogo, astrônomo, astrofísico . Promoveu a busca por inteligência extraterrestre através do projeto SETI . Ganhou Pulitzer de Não Ficção Geral pelo seu livro The Dragons of Eden .'}]"
            ]
          },
          "metadata": {},
          "execution_count": 10
        }
      ]
    },
    {
      "cell_type": "markdown",
      "source": [
        "### Geração de texto"
      ],
      "metadata": {
        "id": "G7ipKT5y0hI2"
      }
    },
    {
      "cell_type": "code",
      "source": [
        "import transformers\n",
        "\n",
        "g = transformers.pipeline('text-generation', 'bigscience/bloom-1b7')"
      ],
      "metadata": {
        "id": "5CQ2vD7Pz7yn"
      },
      "execution_count": null,
      "outputs": []
    },
    {
      "cell_type": "code",
      "source": [
        "text = \"Em sentido estrito, ciência refere-se ao sistema de adquirir conhecimento baseado no método científico.\"\n",
        "generation = g(text, max_length=100, min_length=50, do_sample=True)\n",
        "generation"
      ],
      "metadata": {
        "colab": {
          "base_uri": "https://localhost:8080/"
        },
        "id": "FAh9g4ul67-6",
        "outputId": "fd299e14-4400-4a2a-b83e-c5746b3585e7"
      },
      "execution_count": null,
      "outputs": [
        {
          "output_type": "stream",
          "name": "stderr",
          "text": [
            "Truncation was not explicitly activated but `max_length` is provided a specific value, please use `truncation=True` to explicitly truncate examples to max length. Defaulting to 'longest_first' truncation strategy. If you encode pairs of sequences (GLUE-style) with the tokenizer you can select this strategy more precisely by providing a specific strategy to `truncation`.\n"
          ]
        },
        {
          "output_type": "execute_result",
          "data": {
            "text/plain": [
              "[{'generated_text': 'Em sentido estrito, ciência refere-se ao sistema de adquirir conhecimento baseado no método científico. Na prática, a pesquisa científica tem como objetivo identificar o conhecimento necessário para se alcançar uma meta. Pode ser qualificada como atividade essencialmente empírica que tem como fundamento a observação. A atividade é uma metodologia para o estudo dos fenômenos do mundo, seja para o bem ou para o mal. E quando o objeto estudado é a ciência, o ser humano se torna a ferramenta principal para a obtenção desse conhecimento.\\nObjeto'}]"
            ]
          },
          "metadata": {},
          "execution_count": 12
        }
      ]
    }
  ]
}
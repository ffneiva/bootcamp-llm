{
  "nbformat": 4,
  "nbformat_minor": 0,
  "metadata": {
    "colab": {
      "provenance": [],
      "authorship_tag": "ABX9TyOeq1/x00rcOQXtO3hsYAnq",
      "include_colab_link": true
    },
    "kernelspec": {
      "name": "python3",
      "display_name": "Python 3"
    },
    "language_info": {
      "name": "python"
    }
  },
  "cells": [
    {
      "cell_type": "markdown",
      "metadata": {
        "id": "view-in-github",
        "colab_type": "text"
      },
      "source": [
        "<a href=\"https://colab.research.google.com/github/ffneiva/bootcamp-llm/blob/main/2_OpenAI.ipynb\" target=\"_parent\"><img src=\"https://colab.research.google.com/assets/colab-badge.svg\" alt=\"Open In Colab\"/></a>"
      ]
    },
    {
      "cell_type": "markdown",
      "source": [
        "### Instalação"
      ],
      "metadata": {
        "id": "mnusT15Q761Y"
      }
    },
    {
      "cell_type": "code",
      "execution_count": null,
      "metadata": {
        "colab": {
          "base_uri": "https://localhost:8080/"
        },
        "id": "XmLoNX1V7zFJ",
        "outputId": "a80b21ee-23b4-4582-f6f5-22df71f6f6f3"
      },
      "outputs": [
        {
          "output_type": "stream",
          "name": "stdout",
          "text": [
            "Requirement already satisfied: openai in /usr/local/lib/python3.10/dist-packages (1.35.15)\n",
            "Requirement already satisfied: anyio<5,>=3.5.0 in /usr/local/lib/python3.10/dist-packages (from openai) (3.7.1)\n",
            "Requirement already satisfied: distro<2,>=1.7.0 in /usr/lib/python3/dist-packages (from openai) (1.7.0)\n",
            "Requirement already satisfied: httpx<1,>=0.23.0 in /usr/local/lib/python3.10/dist-packages (from openai) (0.27.0)\n",
            "Requirement already satisfied: pydantic<3,>=1.9.0 in /usr/local/lib/python3.10/dist-packages (from openai) (2.8.2)\n",
            "Requirement already satisfied: sniffio in /usr/local/lib/python3.10/dist-packages (from openai) (1.3.1)\n",
            "Requirement already satisfied: tqdm>4 in /usr/local/lib/python3.10/dist-packages (from openai) (4.66.4)\n",
            "Requirement already satisfied: typing-extensions<5,>=4.7 in /usr/local/lib/python3.10/dist-packages (from openai) (4.12.2)\n",
            "Requirement already satisfied: idna>=2.8 in /usr/local/lib/python3.10/dist-packages (from anyio<5,>=3.5.0->openai) (3.7)\n",
            "Requirement already satisfied: exceptiongroup in /usr/local/lib/python3.10/dist-packages (from anyio<5,>=3.5.0->openai) (1.2.2)\n",
            "Requirement already satisfied: certifi in /usr/local/lib/python3.10/dist-packages (from httpx<1,>=0.23.0->openai) (2024.7.4)\n",
            "Requirement already satisfied: httpcore==1.* in /usr/local/lib/python3.10/dist-packages (from httpx<1,>=0.23.0->openai) (1.0.5)\n",
            "Requirement already satisfied: h11<0.15,>=0.13 in /usr/local/lib/python3.10/dist-packages (from httpcore==1.*->httpx<1,>=0.23.0->openai) (0.14.0)\n",
            "Requirement already satisfied: annotated-types>=0.4.0 in /usr/local/lib/python3.10/dist-packages (from pydantic<3,>=1.9.0->openai) (0.7.0)\n",
            "Requirement already satisfied: pydantic-core==2.20.1 in /usr/local/lib/python3.10/dist-packages (from pydantic<3,>=1.9.0->openai) (2.20.1)\n"
          ]
        }
      ],
      "source": [
        "!pip install openai"
      ]
    },
    {
      "cell_type": "markdown",
      "source": [
        "### Aplicação"
      ],
      "metadata": {
        "id": "KQkwdAOZ78aS"
      }
    },
    {
      "cell_type": "code",
      "source": [
        "from openai import OpenAI\n",
        "\n",
        "client = OpenAI(api_key='sk-proj-api_key')\n",
        "model = 'gpt-3.5-turbo'\n",
        "\n",
        "client.models.list()"
      ],
      "metadata": {
        "colab": {
          "base_uri": "https://localhost:8080/"
        },
        "id": "dU6FEPKr76QA",
        "outputId": "847bd52d-de26-43e4-8611-4651945c5309"
      },
      "execution_count": null,
      "outputs": [
        {
          "output_type": "execute_result",
          "data": {
            "text/plain": [
              "SyncPage[Model](data=[Model(id='dall-e-3', created=1698785189, object='model', owned_by='system'), Model(id='whisper-1', created=1677532384, object='model', owned_by='openai-internal'), Model(id='gpt-4-turbo-2024-04-09', created=1712601677, object='model', owned_by='system'), Model(id='gpt-4-1106-preview', created=1698957206, object='model', owned_by='system'), Model(id='dall-e-2', created=1698798177, object='model', owned_by='system'), Model(id='gpt-4-turbo', created=1712361441, object='model', owned_by='system'), Model(id='tts-1-hd-1106', created=1699053533, object='model', owned_by='system'), Model(id='tts-1-hd', created=1699046015, object='model', owned_by='system'), Model(id='gpt-4-turbo-preview', created=1706037777, object='model', owned_by='system'), Model(id='babbage-002', created=1692634615, object='model', owned_by='system'), Model(id='gpt-4-0125-preview', created=1706037612, object='model', owned_by='system'), Model(id='gpt-4o-2024-05-13', created=1715368132, object='model', owned_by='system'), Model(id='text-embedding-3-small', created=1705948997, object='model', owned_by='system'), Model(id='text-embedding-3-large', created=1705953180, object='model', owned_by='system'), Model(id='tts-1-1106', created=1699053241, object='model', owned_by='system'), Model(id='gpt-3.5-turbo', created=1677610602, object='model', owned_by='openai'), Model(id='gpt-3.5-turbo-instruct', created=1692901427, object='model', owned_by='system'), Model(id='gpt-3.5-turbo-instruct-0914', created=1694122472, object='model', owned_by='system'), Model(id='text-embedding-ada-002', created=1671217299, object='model', owned_by='openai-internal'), Model(id='gpt-3.5-turbo-16k', created=1683758102, object='model', owned_by='openai-internal'), Model(id='davinci-002', created=1692634301, object='model', owned_by='system'), Model(id='gpt-3.5-turbo-0125', created=1706048358, object='model', owned_by='system'), Model(id='gpt-3.5-turbo-1106', created=1698959748, object='model', owned_by='system'), Model(id='tts-1', created=1681940951, object='model', owned_by='openai-internal'), Model(id='gpt-4o-mini-2024-07-18', created=1721172717, object='model', owned_by='system'), Model(id='gpt-4-0613', created=1686588896, object='model', owned_by='openai'), Model(id='gpt-4o-mini', created=1721172741, object='model', owned_by='system'), Model(id='gpt-4o', created=1715367049, object='model', owned_by='system'), Model(id='gpt-4', created=1687882411, object='model', owned_by='openai')], object='list')"
            ]
          },
          "metadata": {},
          "execution_count": 2
        }
      ]
    },
    {
      "cell_type": "markdown",
      "source": [
        "##### Piada"
      ],
      "metadata": {
        "id": "jgJPMhys_saT"
      }
    },
    {
      "cell_type": "code",
      "source": [
        "response = client.chat.completions.create(\n",
        "    model=model,\n",
        "    messages=[{'role': 'user', 'content': 'Tell me a Joke'}],\n",
        ")\n",
        "response"
      ],
      "metadata": {
        "colab": {
          "base_uri": "https://localhost:8080/"
        },
        "id": "_Ujiadf88WzV",
        "outputId": "9b9b25c3-5b06-40d8-8ce1-a98b8981bd1e"
      },
      "execution_count": null,
      "outputs": [
        {
          "output_type": "execute_result",
          "data": {
            "text/plain": [
              "ChatCompletion(id='chatcmpl-9mZXhHYgeKjyCtXKsHkAHElMDqF5p', choices=[Choice(finish_reason='stop', index=0, logprobs=None, message=ChatCompletionMessage(content=\"Why couldn't the bicycle find its way home? \\n\\nBecause it lost its bearings!\", role='assistant', function_call=None, tool_calls=None))], created=1721363397, model='gpt-3.5-turbo-0125', object='chat.completion', service_tier=None, system_fingerprint=None, usage=CompletionUsage(completion_tokens=17, prompt_tokens=12, total_tokens=29))"
            ]
          },
          "metadata": {},
          "execution_count": 3
        }
      ]
    },
    {
      "cell_type": "code",
      "source": [
        "response.choices[0].message.content"
      ],
      "metadata": {
        "colab": {
          "base_uri": "https://localhost:8080/",
          "height": 35
        },
        "id": "f-_v-Gbf9I-x",
        "outputId": "dd5a02f5-06ba-49ca-c00d-4d1c0b125257"
      },
      "execution_count": null,
      "outputs": [
        {
          "output_type": "execute_result",
          "data": {
            "text/plain": [
              "\"Why couldn't the bicycle find its way home? \\n\\nBecause it lost its bearings!\""
            ],
            "application/vnd.google.colaboratory.intrinsic+json": {
              "type": "string"
            }
          },
          "metadata": {},
          "execution_count": 4
        }
      ]
    },
    {
      "cell_type": "markdown",
      "source": [
        "##### Investimento"
      ],
      "metadata": {
        "id": "qmxgheJJ_tjq"
      }
    },
    {
      "cell_type": "code",
      "source": [
        "response = client.chat.completions.create(\n",
        "    model=model,\n",
        "    messages=[\n",
        "        {'role': 'user', 'content': 'You are a investment assistant.'},\n",
        "        {'role': 'user', 'content': 'What is the best high-risk investment you recommend for this year?'},\n",
        "    ],\n",
        ")\n",
        "response"
      ],
      "metadata": {
        "colab": {
          "base_uri": "https://localhost:8080/"
        },
        "id": "Jxd8Iw46_uJI",
        "outputId": "44f7d3e7-0a24-41d7-cb74-424ecfb84aec"
      },
      "execution_count": null,
      "outputs": [
        {
          "output_type": "execute_result",
          "data": {
            "text/plain": [
              "ChatCompletion(id='chatcmpl-9mZXhLdGESOkVVlf564Pw9mpdeGJf', choices=[Choice(finish_reason='stop', index=0, logprobs=None, message=ChatCompletionMessage(content='As an investment assistant, I must emphasize that high-risk investments should be approached with caution and only considered by experienced investors who understand and are willing to accept the potential high level of volatility and potential losses associated with such investments.\\n\\nThat being said, one high-risk investment that some investors may consider for this year is investing in cryptocurrencies, such as Bitcoin or Ethereum. Cryptocurrencies are known for their high volatility and have the potential for significant gains, but also come with a high level of risk due to regulatory uncertainties, security concerns, and market fluctuations.\\n\\nIt is important to thoroughly research and understand the risks involved in investing in cryptocurrencies before making any decisions. It is also recommended to consult with a financial advisor before proceeding with such high-risk investments.', role='assistant', function_call=None, tool_calls=None))], created=1721363397, model='gpt-3.5-turbo-0125', object='chat.completion', service_tier=None, system_fingerprint=None, usage=CompletionUsage(completion_tokens=147, prompt_tokens=30, total_tokens=177))"
            ]
          },
          "metadata": {},
          "execution_count": 5
        }
      ]
    },
    {
      "cell_type": "code",
      "source": [
        "message = response.choices[0].message.content\n",
        "message"
      ],
      "metadata": {
        "colab": {
          "base_uri": "https://localhost:8080/",
          "height": 174
        },
        "id": "jZM1RMrEADPx",
        "outputId": "50bc330f-27cf-4399-81fd-a55fbdbf2e8d"
      },
      "execution_count": null,
      "outputs": [
        {
          "output_type": "execute_result",
          "data": {
            "text/plain": [
              "'As an investment assistant, I must emphasize that high-risk investments should be approached with caution and only considered by experienced investors who understand and are willing to accept the potential high level of volatility and potential losses associated with such investments.\\n\\nThat being said, one high-risk investment that some investors may consider for this year is investing in cryptocurrencies, such as Bitcoin or Ethereum. Cryptocurrencies are known for their high volatility and have the potential for significant gains, but also come with a high level of risk due to regulatory uncertainties, security concerns, and market fluctuations.\\n\\nIt is important to thoroughly research and understand the risks involved in investing in cryptocurrencies before making any decisions. It is also recommended to consult with a financial advisor before proceeding with such high-risk investments.'"
            ],
            "application/vnd.google.colaboratory.intrinsic+json": {
              "type": "string"
            }
          },
          "metadata": {},
          "execution_count": 6
        }
      ]
    },
    {
      "cell_type": "code",
      "source": [
        "response = client.chat.completions.create(\n",
        "    model=model,\n",
        "    messages=[\n",
        "        {'role': 'assistant', 'content': message},\n",
        "        {'role': 'user', 'content': 'What is the risks related?'},\n",
        "    ],\n",
        ")\n",
        "response"
      ],
      "metadata": {
        "colab": {
          "base_uri": "https://localhost:8080/"
        },
        "id": "bYVQC_HKAT7k",
        "outputId": "4af84afd-5133-4dd1-8f76-5e1b172a70f9"
      },
      "execution_count": null,
      "outputs": [
        {
          "output_type": "execute_result",
          "data": {
            "text/plain": [
              "ChatCompletion(id='chatcmpl-9mZXj0MpZRTyL18WBzlyLu11W9l0s', choices=[Choice(finish_reason='stop', index=0, logprobs=None, message=ChatCompletionMessage(content=\"Investing in high-risk assets like cryptocurrencies comes with various risks that investors need to be aware of. Some of the key risks associated with investing in cryptocurrencies include:\\n\\n1. Volatility: Cryptocurrency prices can experience extreme fluctuations in short periods of time. Prices can be influenced by market sentiment, regulatory developments, macroeconomic factors, and other external events. This high volatility can result in rapid and significant gains or losses for investors.\\n\\n2. Regulatory Risks: The regulatory environment for cryptocurrencies is constantly evolving and varies significantly from country to country. Changes in regulations, bans on certain activities, or stricter enforcement measures can impact the value and legality of cryptocurrencies.\\n\\n3. Security Risks: Cryptocurrencies are digital assets that are susceptible to hacking, fraud, and cyber attacks. Exchange platforms, wallets, and other infrastructure associated with cryptocurrencies can be vulnerable to security breaches, resulting in the loss of funds for investors.\\n\\n4. Market Manipulation: The cryptocurrency market is relatively small compared to traditional financial markets, making it more susceptible to market manipulation and price manipulation by actors with large holdings in certain cryptocurrencies.\\n\\n5. Lack of Regulation: The lack of regulation and oversight in the cryptocurrency space can expose investors to scams, fraudulent schemes, and unscrupulous practices. Without proper safeguards, investors may have limited recourse in case of fraud or disputes.\\n\\n6. Technology Risks: Cryptocurrencies are based on blockchain technology, which is still relatively new and evolving. Technological issues, software bugs, and vulnerabilities in the underlying blockchain infrastructure could impact the security and stability of cryptocurrencies.\\n\\nIt's important for investors to weigh these risks carefully and consider their risk tolerance, investment goals, and financial situation before investing in high-risk assets like cryptocurrencies. Diversification, research, and due diligence are crucial to managing these risks effectively.\", role='assistant', function_call=None, tool_calls=None))], created=1721363399, model='gpt-3.5-turbo-0125', object='chat.completion', service_tier=None, system_fingerprint=None, usage=CompletionUsage(completion_tokens=359, prompt_tokens=164, total_tokens=523))"
            ]
          },
          "metadata": {},
          "execution_count": 7
        }
      ]
    },
    {
      "cell_type": "code",
      "source": [
        "response.choices[0].message.content"
      ],
      "metadata": {
        "colab": {
          "base_uri": "https://localhost:8080/",
          "height": 192
        },
        "id": "7EOflnKtAfJP",
        "outputId": "34c30432-46f1-44d8-b0df-f3b78e1b82d3"
      },
      "execution_count": null,
      "outputs": [
        {
          "output_type": "execute_result",
          "data": {
            "text/plain": [
              "\"Investing in high-risk assets like cryptocurrencies comes with various risks that investors need to be aware of. Some of the key risks associated with investing in cryptocurrencies include:\\n\\n1. Volatility: Cryptocurrency prices can experience extreme fluctuations in short periods of time. Prices can be influenced by market sentiment, regulatory developments, macroeconomic factors, and other external events. This high volatility can result in rapid and significant gains or losses for investors.\\n\\n2. Regulatory Risks: The regulatory environment for cryptocurrencies is constantly evolving and varies significantly from country to country. Changes in regulations, bans on certain activities, or stricter enforcement measures can impact the value and legality of cryptocurrencies.\\n\\n3. Security Risks: Cryptocurrencies are digital assets that are susceptible to hacking, fraud, and cyber attacks. Exchange platforms, wallets, and other infrastructure associated with cryptocurrencies can be vulnerable to security breaches, resulting in the loss of funds for investors.\\n\\n4. Market Manipulation: The cryptocurrency market is relatively small compared to traditional financial markets, making it more susceptible to market manipulation and price manipulation by actors with large holdings in certain cryptocurrencies.\\n\\n5. Lack of Regulation: The lack of regulation and oversight in the cryptocurrency space can expose investors to scams, fraudulent schemes, and unscrupulous practices. Without proper safeguards, investors may have limited recourse in case of fraud or disputes.\\n\\n6. Technology Risks: Cryptocurrencies are based on blockchain technology, which is still relatively new and evolving. Technological issues, software bugs, and vulnerabilities in the underlying blockchain infrastructure could impact the security and stability of cryptocurrencies.\\n\\nIt's important for investors to weigh these risks carefully and consider their risk tolerance, investment goals, and financial situation before investing in high-risk assets like cryptocurrencies. Diversification, research, and due diligence are crucial to managing these risks effectively.\""
            ],
            "application/vnd.google.colaboratory.intrinsic+json": {
              "type": "string"
            }
          },
          "metadata": {},
          "execution_count": 8
        }
      ]
    }
  ]
}